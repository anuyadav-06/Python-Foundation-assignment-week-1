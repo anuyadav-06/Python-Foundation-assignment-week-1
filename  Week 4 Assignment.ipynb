{
 "cells": [
  {
   "cell_type": "markdown",
   "metadata": {},
   "source": [
    "### Topics: Conditional Statements, Loops, Errors and Exception Hanlding, Functions."
   ]
  },
  {
   "cell_type": "code",
   "execution_count": null,
   "metadata": {},
   "outputs": [],
   "source": []
  },
  {
   "cell_type": "code",
   "execution_count": null,
   "metadata": {},
   "outputs": [],
   "source": []
  },
  {
   "cell_type": "markdown",
   "metadata": {},
   "source": [
    "#### 1. Write a Python Program that takes user's age as input and informs him one of the following based on his age.\n",
    "\n",
    "    - The user yet to get the Voter ID card\n",
    "    - The user is eligible to vote\n",
    "    - The user is not eligible yet to vote\n",
    "    - The user is a senior citizen"
   ]
  },
  {
   "cell_type": "code",
   "execution_count": 8,
   "metadata": {},
   "outputs": [
    {
     "name": "stdout",
     "output_type": "stream",
     "text": [
      "Enter person age: 61\n",
      "The person is a senior citizen\n"
     ]
    }
   ],
   "source": [
    "age = int(input(\"Enter person age: \"))         \n",
    "if age == 18:\n",
    "        print(\"The person yet to get the Voter ID card\")\n",
    "elif 18 >= age <=60:\n",
    "        print(\"The person is eligible to vote \")\n",
    "elif age < 18:\n",
    "        print(\"The person is not eligible yet to vote\")\n",
    "elif age > 60:\n",
    "        print(\"The person is a senior citizen\" )\n",
    "else:\n",
    "    print(\"Enter valid age\")"
   ]
  },
  {
   "cell_type": "markdown",
   "metadata": {},
   "source": [
    "#### 2. Write a Python Program that return all the numbers between 1 and 50 that are divisible by '3' and '7'."
   ]
  },
  {
   "cell_type": "code",
   "execution_count": 13,
   "metadata": {},
   "outputs": [
    {
     "name": "stdout",
     "output_type": "stream",
     "text": [
      "21\n",
      "42\n"
     ]
    }
   ],
   "source": [
    "i = 1\n",
    "\n",
    "while i < 51:\n",
    "    if i % 3 == 0:\n",
    "        if i % 7 == 0:\n",
    "            print(i)\n",
    "    i = i+1"
   ]
  },
  {
   "cell_type": "markdown",
   "metadata": {},
   "source": [
    "#### 3. Write a Python Program to create a list of numbers from 1 to 50 and calculate the sum of all the elements of the list."
   ]
  },
  {
   "cell_type": "code",
   "execution_count": 6,
   "metadata": {},
   "outputs": [
    {
     "name": "stdout",
     "output_type": "stream",
     "text": [
      "1\n",
      "3\n",
      "6\n",
      "10\n",
      "15\n",
      "21\n",
      "28\n",
      "36\n",
      "45\n",
      "55\n",
      "66\n",
      "78\n",
      "91\n",
      "105\n",
      "120\n",
      "136\n",
      "153\n",
      "171\n",
      "190\n",
      "210\n",
      "231\n",
      "253\n",
      "276\n",
      "300\n",
      "325\n",
      "351\n",
      "378\n",
      "406\n",
      "435\n",
      "465\n",
      "496\n",
      "528\n",
      "561\n",
      "595\n",
      "630\n",
      "666\n",
      "703\n",
      "741\n",
      "780\n",
      "820\n",
      "861\n",
      "903\n",
      "946\n",
      "990\n",
      "1035\n",
      "1081\n",
      "1128\n",
      "1176\n",
      "1225\n",
      "1275\n"
     ]
    }
   ],
   "source": [
    "list_num = 0\n",
    "for x in range(1,51):\n",
    "    list_num = list_num + x\n",
    "    print(list_num)"
   ]
  },
  {
   "cell_type": "markdown",
   "metadata": {},
   "source": [
    "#### 4. Write a Python Program that prints the numbers from 1 to 50 and displays \" (number) is divisible by 3 and 5\" for the numbers which are divisible by 3 and 5."
   ]
  },
  {
   "cell_type": "code",
   "execution_count": 9,
   "metadata": {},
   "outputs": [
    {
     "name": "stdout",
     "output_type": "stream",
     "text": [
      "1\n",
      "2\n",
      "3\n",
      "4\n",
      "5\n",
      "6\n",
      "7\n",
      "8\n",
      "9\n",
      "10\n",
      "11\n",
      "12\n",
      "13\n",
      "14\n",
      "15\n",
      "the above number is divisible by 3 and 5\n",
      "16\n",
      "17\n",
      "18\n",
      "19\n",
      "20\n",
      "21\n",
      "22\n",
      "23\n",
      "24\n",
      "25\n",
      "26\n",
      "27\n",
      "28\n",
      "29\n",
      "30\n",
      "the above number is divisible by 3 and 5\n",
      "31\n",
      "32\n",
      "33\n",
      "34\n",
      "35\n",
      "36\n",
      "37\n",
      "38\n",
      "39\n",
      "40\n",
      "41\n",
      "42\n",
      "43\n",
      "44\n",
      "45\n",
      "the above number is divisible by 3 and 5\n",
      "46\n",
      "47\n",
      "48\n",
      "49\n",
      "50\n"
     ]
    }
   ],
   "source": [
    "for x in range(1,51):\n",
    "    print(x)\n",
    "    if x % 3 == 0:\n",
    "        if x % 5 == 0:\n",
    "            print(\"the above number is divisible by 3 and 5\")"
   ]
  },
  {
   "cell_type": "markdown",
   "metadata": {},
   "source": [
    "#### 5. Write a Python Program that takes the input value of numerator and denominator, and handles Zero Division Error specifically\n",
    "    \n",
    "    Note: Other errors shall be handled in a general sense."
   ]
  },
  {
   "cell_type": "code",
   "execution_count": 14,
   "metadata": {},
   "outputs": [
    {
     "name": "stdout",
     "output_type": "stream",
     "text": [
      "Enter numerator 85\n",
      "Enter denomenator 25\n",
      "3.4\n",
      "executed for sure\n"
     ]
    }
   ],
   "source": [
    "try:\n",
    "    a=float(input('Enter numerator '))\n",
    "    b=float(input('Enter denomenator '))\n",
    "    result=(a/b)\n",
    "    print(result)\n",
    "except:\n",
    "    print('Enter a number other than zero')\n",
    "finally:\n",
    "     print('executed for sure')"
   ]
  },
  {
   "cell_type": "markdown",
   "metadata": {},
   "source": [
    "#### 6. Write a Python Program to convert a normal word to a secret word.\n",
    "\n",
    "The rules are as follows:\n",
    "\n",
    "1. If a word starts with a vowel, add 'yes' to the end.\n",
    "2. If not, put the first letter at the end, then add 'yes'\n",
    "\n",
    "Examples:\n",
    "\n",
    "1. win --> inwyes\n",
    "2. ant --> antyes"
   ]
  },
  {
   "cell_type": "code",
   "execution_count": 12,
   "metadata": {},
   "outputs": [
    {
     "name": "stdout",
     "output_type": "stream",
     "text": [
      "Enter a word: now\n",
      "ownyes\n"
     ]
    }
   ],
   "source": [
    "word= input(\"Enter a word: \")\n",
    "if word == \"aeiou\":\n",
    "    print(\" word + yes\")\n",
    "elif word == \"now\":\n",
    "    print(\"ownyes\")\n",
    "else:\n",
    "    print(\"Invalid\")"
   ]
  }
 ],
 "metadata": {
  "kernelspec": {
   "display_name": "Python 3",
   "language": "python",
   "name": "python3"
  },
  "language_info": {
   "codemirror_mode": {
    "name": "ipython",
    "version": 3
   },
   "file_extension": ".py",
   "mimetype": "text/x-python",
   "name": "python",
   "nbconvert_exporter": "python",
   "pygments_lexer": "ipython3",
   "version": "3.7.6"
  }
 },
 "nbformat": 4,
 "nbformat_minor": 4
}
